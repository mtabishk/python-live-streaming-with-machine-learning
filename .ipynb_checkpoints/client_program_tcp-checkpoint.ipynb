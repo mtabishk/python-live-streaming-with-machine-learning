{
 "cells": [
  {
   "cell_type": "code",
   "execution_count": null,
   "id": "be0f9df5",
   "metadata": {},
   "outputs": [],
   "source": [
    "import socket\n",
    "import cv2\n",
    "import numpy as np\n",
    "\n",
    "HOST = \"192.168.1.4\"\n",
    "PORT = 20001\n",
    "\n",
    "# Create a TCP socket at client side\n",
    "TCPClientSocket = socket.socket(family=socket.AF_INET, type=socket.SOCK_STREAM)\n",
    "\n",
    "TCPClientSocket.connect((HOST, PORT))\n",
    "TCPClientSocket.send(b'Hello, Server')\n",
    "\n",
    "while True:\n",
    "    # 1 mb == 1000000 bytes\n",
    "    msgFromServer = TCPClientSocket.recv(1000000)\n",
    "    if msgFromServer is not None:\n",
    "        data = msgFromServer\n",
    "        #decoding\n",
    "        nparr = np.frombuffer(data, np.uint8)\n",
    "        #Decode into picture numpy\n",
    "        #img_decode=cv2.imdecode (nparr, cv2.IMREAD_COLOR)\n",
    "        cv2.imshow(\"Photo Recieved\", img_decode)\n",
    "        if cv2.waitKey(1) & 0xFF == ord('q'):\n",
    "            break\n",
    "cap.release()\n",
    "cv2.destroyAllWindows()\n",
    "          \n",
    "        "
   ]
  },
  {
   "cell_type": "code",
   "execution_count": null,
   "id": "6b383d89",
   "metadata": {},
   "outputs": [],
   "source": []
  },
  {
   "cell_type": "code",
   "execution_count": null,
   "id": "13d20b8d",
   "metadata": {},
   "outputs": [],
   "source": []
  }
 ],
 "metadata": {
  "kernelspec": {
   "display_name": "Python 3",
   "language": "python",
   "name": "python3"
  },
  "language_info": {
   "codemirror_mode": {
    "name": "ipython",
    "version": 3
   },
   "file_extension": ".py",
   "mimetype": "text/x-python",
   "name": "python",
   "nbconvert_exporter": "python",
   "pygments_lexer": "ipython3",
   "version": "3.8.8"
  }
 },
 "nbformat": 4,
 "nbformat_minor": 5
}
