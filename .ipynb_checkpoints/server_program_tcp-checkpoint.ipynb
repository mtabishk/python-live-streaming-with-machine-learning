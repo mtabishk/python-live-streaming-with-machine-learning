{
 "cells": [
  {
   "cell_type": "code",
   "execution_count": null,
   "id": "190c8d9c",
   "metadata": {},
   "outputs": [],
   "source": [
    "import socket\n",
    "import cv2 \n",
    "import pickle\n",
    "import struct\n",
    "\n",
    "# create socket\n",
    "server_socket = socket.socket(socket.AF_INET,socket.SOCK_STREAM)\n",
    "\n",
    "HOST     = \"192.168.1.4\"\n",
    "PORT   = 20001\n",
    "\n",
    "socket_address = (HOST,PORT)\n",
    "\n",
    "# Socket Bind\n",
    "server_socket.bind(socket_address)\n",
    "\n",
    "# Socket Listen\n",
    "server_socket.listen(5)\n",
    "print(\"LISTENING AT:\",socket_address)\n",
    "\n",
    "# Socket Accept\n",
    "while True:\n",
    "    client_socket,addr = server_socket.accept()\n",
    "    print('GOT CONNECTION FROM:',addr)\n",
    "    if client_socket:\n",
    "        cap = cv2.VideoCapture(0)\n",
    "        \n",
    "        while(cap.isOpened()):\n",
    "            img,frame = cap.read()\n",
    "            # serialize frame to byte data\n",
    "            a = pickle.dumps(frame)\n",
    "            message = struct.pack(\"Q\",len(a) )+ a\n",
    "            client_socket.sendall(message)\n",
    "            \n",
    "            cv2.imshow('TRANSMITTING VIDEO',frame)\n",
    "            if cv2.waitKey(1) & 0xFF == ord('q'):\n",
    "                client_socket.close()"
   ]
  },
  {
   "cell_type": "code",
   "execution_count": null,
   "id": "b24905d5",
   "metadata": {},
   "outputs": [],
   "source": []
  }
 ],
 "metadata": {
  "kernelspec": {
   "display_name": "Python 3",
   "language": "python",
   "name": "python3"
  },
  "language_info": {
   "codemirror_mode": {
    "name": "ipython",
    "version": 3
   },
   "file_extension": ".py",
   "mimetype": "text/x-python",
   "name": "python",
   "nbconvert_exporter": "python",
   "pygments_lexer": "ipython3",
   "version": "3.8.8"
  }
 },
 "nbformat": 4,
 "nbformat_minor": 5
}
