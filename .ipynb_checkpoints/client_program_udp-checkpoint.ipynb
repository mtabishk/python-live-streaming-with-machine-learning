{
 "cells": [
  {
   "cell_type": "code",
   "execution_count": null,
   "id": "be0f9df5",
   "metadata": {},
   "outputs": [],
   "source": [
    "import socket\n",
    "import cv2\n",
    "import numpy as np\n",
    "\n",
    "msgFromClient       = \"Hello UDP Server\"\n",
    "bytesToSend         = str.encode(msgFromClient)\n",
    "serverAddressPort   = (\"192.168.1.4\", 20001)\n",
    "\n",
    "# Create a UDP socket at client side\n",
    "UDPClientSocket = socket.socket(family=socket.AF_INET, type=socket.SOCK_DGRAM)\n",
    "\n",
    "# Send to server using created UDP socket\n",
    "UDPClientSocket.sendto(bytesToSend, serverAddressPort)\n",
    "\n",
    "while True:\n",
    "    # 1 mb == 1000000 bytes\n",
    "    msgFromServer = UDPClientSocket.recvfrom(1000000)\n",
    "    if msgFromServer is not None:\n",
    "        data = msgFromServer[0]\n",
    "        #decoding\n",
    "        nparr = np.frombuffer(data, np.uint8)\n",
    "        #Decode into picture numpy\n",
    "        img_decode=cv2.imdecode (nparr, cv2.IMREAD_COLOR)\n",
    "        cv2.imshow(\"Photo Recieved\", img_decode)\n",
    "        cv2.waitKey()\n",
    "        cv2.destroyAllWindows()\n",
    "        "
   ]
  },
  {
   "cell_type": "code",
   "execution_count": null,
   "id": "6b383d89",
   "metadata": {},
   "outputs": [],
   "source": []
  },
  {
   "cell_type": "code",
   "execution_count": null,
   "id": "13d20b8d",
   "metadata": {},
   "outputs": [],
   "source": []
  }
 ],
 "metadata": {
  "kernelspec": {
   "display_name": "Python 3",
   "language": "python",
   "name": "python3"
  },
  "language_info": {
   "codemirror_mode": {
    "name": "ipython",
    "version": 3
   },
   "file_extension": ".py",
   "mimetype": "text/x-python",
   "name": "python",
   "nbconvert_exporter": "python",
   "pygments_lexer": "ipython3",
   "version": "3.6.8"
  }
 },
 "nbformat": 4,
 "nbformat_minor": 5
}
