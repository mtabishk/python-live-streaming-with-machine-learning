{
 "cells": [
  {
   "cell_type": "code",
   "execution_count": null,
   "id": "04693092",
   "metadata": {},
   "outputs": [],
   "source": [
    "import socket\n",
    "\n",
    "# For using UDP (User Datagram) Protocol\n",
    "ptl = socket.SOCK_DGRAM\n",
    "\n",
    "# Network Address Family (AF) : INET is for IPv4\n",
    "naf = socket.AF_INET\n",
    "\n",
    "# socket object\n",
    "s = socket.socket(ptl, naf)\n",
    "\n",
    "#host = socket.gethostname() # for using local machine as host\n",
    "host = \"192.168.1.28\"\n",
    "port = 1234\n",
    "\n",
    "# binding host and port with the socket object\n",
    "s.bind( (host,port) )\n",
    "\n",
    "# recvfrom() method is used to recieve data from UDP Protocol\n",
    "data = s.recvfrom(1024) # 1024 is size in bytes of data to recieve from the client\n",
    "\n",
    "print(data)"
   ]
  },
  {
   "cell_type": "code",
   "execution_count": null,
   "id": "5a7ac7df",
   "metadata": {},
   "outputs": [],
   "source": []
  }
 ],
 "metadata": {
  "kernelspec": {
   "display_name": "Python 3",
   "language": "python",
   "name": "python3"
  },
  "language_info": {
   "codemirror_mode": {
    "name": "ipython",
    "version": 3
   },
   "file_extension": ".py",
   "mimetype": "text/x-python",
   "name": "python",
   "nbconvert_exporter": "python",
   "pygments_lexer": "ipython3",
   "version": "3.8.8"
  }
 },
 "nbformat": 4,
 "nbformat_minor": 5
}
