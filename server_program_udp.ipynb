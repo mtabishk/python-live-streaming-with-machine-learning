{
 "cells": [
  {
   "cell_type": "code",
   "execution_count": 2,
   "id": "04693092",
   "metadata": {},
   "outputs": [],
   "source": [
    "import numpy as np\n",
    "import cv2"
   ]
  },
  {
   "cell_type": "code",
   "execution_count": 3,
   "id": "e63520ac",
   "metadata": {},
   "outputs": [],
   "source": [
    "img = cv2.imread(\"pic.jpg\")"
   ]
  },
  {
   "cell_type": "code",
   "execution_count": 4,
   "id": "5b3453cd",
   "metadata": {},
   "outputs": [],
   "source": [
    "cv2.imshow(\"myphoto\", img)\n",
    "cv2.waitKey()\n",
    "cv2.destroyAllWindows()"
   ]
  },
  {
   "cell_type": "code",
   "execution_count": 5,
   "id": "1ead99c3",
   "metadata": {},
   "outputs": [],
   "source": [
    "img_encode=cv2.imencode (\".jpg\", img) [1]\n",
    "data_encode=np.array (img_encode)\n",
    "data=data_encode.tobytes()"
   ]
  },
  {
   "cell_type": "code",
   "execution_count": null,
   "id": "a31f6f7f",
   "metadata": {},
   "outputs": [
    {
     "name": "stdout",
     "output_type": "stream",
     "text": [
      "UDP server up and listening\n",
      "Client 192.168.1.38 connected\n",
      "Client 192.168.1.38 connected\n",
      "Client 192.168.1.38 connected\n",
      "Client 192.168.1.38 connected\n",
      "Client 192.168.1.38 connected\n",
      "Client 192.168.1.38 connected\n"
     ]
    }
   ],
   "source": [
    "import socket\n",
    "\n",
    "localIP     = \"192.168.1.4\"\n",
    "localPort   = 20001\n",
    "\n",
    "msgFromServer       = \"Hello UDP Client\"\n",
    "bytesToSend         = str.encode(msgFromServer)\n",
    "\n",
    "# Create a datagram socket\n",
    "UDPServerSocket = socket.socket(family=socket.AF_INET, type=socket.SOCK_DGRAM)\n",
    "\n",
    "# Bind to address and ip\n",
    "UDPServerSocket.bind((localIP, localPort))\n",
    "\n",
    "print(\"UDP server up and listening\")\n",
    "\n",
    "# Listen for incoming datagrams/\n",
    "while(True):\n",
    "    bytesAddressPair = UDPServerSocket.recvfrom(1024)\n",
    "    message = bytesAddressPair[0]\n",
    "    address = bytesAddressPair[1]\n",
    "\n",
    "    clientIP  = address[0]\n",
    "\n",
    "    print(f\"Client {clientIP} connected\")\n",
    "\n",
    "    # Sending a reply to client\n",
    "    UDPServerSocket.sendto(data, address)"
   ]
  },
  {
   "cell_type": "code",
   "execution_count": null,
   "id": "1586dd00",
   "metadata": {},
   "outputs": [],
   "source": [
    "# Sending a reply to client\n",
    "UDPServerSocket.sendto(\"hello\".encode(), address)"
   ]
  },
  {
   "cell_type": "code",
   "execution_count": null,
   "id": "190c8d9c",
   "metadata": {},
   "outputs": [],
   "source": []
  }
 ],
 "metadata": {
  "kernelspec": {
   "display_name": "Python 3",
   "language": "python",
   "name": "python3"
  },
  "language_info": {
   "codemirror_mode": {
    "name": "ipython",
    "version": 3
   },
   "file_extension": ".py",
   "mimetype": "text/x-python",
   "name": "python",
   "nbconvert_exporter": "python",
   "pygments_lexer": "ipython3",
   "version": "3.8.8"
  }
 },
 "nbformat": 4,
 "nbformat_minor": 5
}
