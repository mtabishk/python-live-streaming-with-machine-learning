{
 "cells": [
  {
   "cell_type": "code",
   "execution_count": null,
   "id": "a31f6f7f",
   "metadata": {},
   "outputs": [],
   "source": [
    "import cv2\n",
    "import numpy as np\n",
    "import socket\n",
    "\n",
    "HOST     = \"192.168.1.4\"\n",
    "PORT   = 20001\n",
    "\n",
    "# Create a datagram socket\n",
    "TCPServerSocket = socket.socket(family=socket.AF_INET, type=socket.SOCK_STREAM)\n",
    "\n",
    "# Bind to address and ip\n",
    "TCPServerSocket.bind((HOST, PORT))\n",
    "TCPServerSocket.listen()\n",
    "\n",
    "print(\"TCP server up and listening\")\n",
    "conn, addr = TCPServerSocket.accept()\n",
    "# Listen for incoming datagrams/\n",
    "while(True):\n",
    "    msg = conn.recv(1024)\n",
    "    if msg.decode() is not None:\n",
    "        clientIP  = addr[0]\n",
    "        print(f\"Client {clientIP} connected\")\n",
    "        print(\"\\t\", msg.decode())\n",
    "\n",
    "    if clientIP is None:\n",
    "        pass\n",
    "    \n",
    "    # Sending a reply to client\n",
    "    cap = cv2.VideoCapture(0)\n",
    "    while(True):\n",
    "        ret, frame = cap.read()\n",
    "        if cap.isOpened() == 0:\n",
    "            cap.open(0)\n",
    "\n",
    "        # haar cascade for face detection\n",
    "        model = cv2.CascadeClassifier('haarcascade_frontalface_default.xml')\n",
    "\n",
    "        faces = model.detectMultiScale(frame)\n",
    "        if (len(faces) != 0):\n",
    "            for face in faces:\n",
    "                x1 = face[0]\n",
    "                y1 = face[1]\n",
    "                x2 = x1 + face[2]\n",
    "                y2 = y1 + face[3]\n",
    "                img = cv2.rectangle(frame, (x1,y1), (x2,y2), [0,255,0], 3)\n",
    "        else:\n",
    "            img = frame\n",
    "\n",
    "        img = cv2.putText(img, f\"Faces Detected: {len(faces)}\", (50, 50), cv2.FONT_HERSHEY_SIMPLEX, 1, (0, 255, 0), 2, cv2.LINE_AA)\n",
    "        \n",
    "        r_img = cv2.resize(img, (300,200))\n",
    "        data = r_img.tobytes()\n",
    "        conn.send(data)\n",
    "\n",
    "        "
   ]
  },
  {
   "cell_type": "code",
   "execution_count": null,
   "id": "1586dd00",
   "metadata": {},
   "outputs": [],
   "source": []
  },
  {
   "cell_type": "code",
   "execution_count": null,
   "id": "190c8d9c",
   "metadata": {},
   "outputs": [],
   "source": []
  }
 ],
 "metadata": {
  "kernelspec": {
   "display_name": "Python 3",
   "language": "python",
   "name": "python3"
  },
  "language_info": {
   "codemirror_mode": {
    "name": "ipython",
    "version": 3
   },
   "file_extension": ".py",
   "mimetype": "text/x-python",
   "name": "python",
   "nbconvert_exporter": "python",
   "pygments_lexer": "ipython3",
   "version": "3.8.8"
  }
 },
 "nbformat": 4,
 "nbformat_minor": 5
}
