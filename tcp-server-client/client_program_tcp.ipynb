{
 "cells": [
  {
   "cell_type": "code",
   "execution_count": 1,
   "id": "be0f9df5",
   "metadata": {},
   "outputs": [
    {
     "name": "stdout",
     "output_type": "stream",
     "text": [
      "Something went wrong\n"
     ]
    }
   ],
   "source": [
    "import socket\n",
    "import cv2 \n",
    "import pickle\n",
    "import struct\n",
    "\n",
    "# create socket\n",
    "client_socket = socket.socket(socket.AF_INET,socket.SOCK_STREAM)\n",
    "\n",
    "\n",
    "HOST     = \"192.168.1.4\"\n",
    "PORT   = 20001\n",
    "\n",
    "client_socket.connect((HOST,PORT)) \n",
    "\n",
    "data = b\"\"\n",
    "payload_size = struct.calcsize(\"Q\")\n",
    "try:\n",
    "    while True:\n",
    "        while len(data) < payload_size:\n",
    "            packet = client_socket.recv(4*1024) \n",
    "            if not packet: break\n",
    "            data+=packet\n",
    "        packed_msg_size = data[:payload_size]\n",
    "        data = data[payload_size:]\n",
    "        print(packed_msg_size)\n",
    "        msg_size = struct.unpack(\"Q\",packed_msg_size)[0]\n",
    "\n",
    "        while len(data) < msg_size:\n",
    "            data += client_socket.recv(4*1024)\n",
    "        frame_data = data[:msg_size]\n",
    "        data  = data[msg_size:]\n",
    "        frame = pickle.loads(frame_data)\n",
    "        cv2.imshow(\"RECEIVING VIDEO\",frame)\n",
    "\n",
    "        if cv2.waitKey(1) & 0xFF == ord('q'):\n",
    "            break  \n",
    "except:\n",
    "    print(\"Something went wrong\")\n",
    "finally:\n",
    "    cv2.destroyAllWindows()\n",
    "    client_socket.close()\n"
   ]
  },
  {
   "cell_type": "code",
   "execution_count": null,
   "id": "6b383d89",
   "metadata": {},
   "outputs": [],
   "source": []
  },
  {
   "cell_type": "code",
   "execution_count": null,
   "id": "13d20b8d",
   "metadata": {},
   "outputs": [],
   "source": []
  }
 ],
 "metadata": {
  "kernelspec": {
   "display_name": "Python 3",
   "language": "python",
   "name": "python3"
  },
  "language_info": {
   "codemirror_mode": {
    "name": "ipython",
    "version": 3
   },
   "file_extension": ".py",
   "mimetype": "text/x-python",
   "name": "python",
   "nbconvert_exporter": "python",
   "pygments_lexer": "ipython3",
   "version": "3.8.8"
  }
 },
 "nbformat": 4,
 "nbformat_minor": 5
}
