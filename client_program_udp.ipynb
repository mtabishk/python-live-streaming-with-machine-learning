{
 "cells": [
  {
   "cell_type": "code",
   "execution_count": null,
   "id": "be0f9df5",
   "metadata": {},
   "outputs": [],
   "source": [
    "import socket\n",
    "s = socket.socket(socket.AF_INET, socket.SOCK_STREAM)\n",
    "\n",
    "s.connect( (\"192.168.1.28\", 1234) )\n",
    "\n",
    "while True:\n",
    "    data = input(\"<Me>:  \")\n",
    "    s.send(data.encode() )\n",
    "    \n",
    "    msg = s.recv(1024)\n",
    "    if msg.decode() is not None:\n",
    "        print(\"192.168.1.28:  \" + msg.decode() )"
   ]
  }
 ],
 "metadata": {
  "kernelspec": {
   "display_name": "Python 3",
   "language": "python",
   "name": "python3"
  },
  "language_info": {
   "codemirror_mode": {
    "name": "ipython",
    "version": 3
   },
   "file_extension": ".py",
   "mimetype": "text/x-python",
   "name": "python",
   "nbconvert_exporter": "python",
   "pygments_lexer": "ipython3",
   "version": "3.8.8"
  }
 },
 "nbformat": 4,
 "nbformat_minor": 5
}
